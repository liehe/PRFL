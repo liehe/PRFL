{
 "cells": [
  {
   "cell_type": "code",
   "execution_count": 2,
   "metadata": {},
   "outputs": [],
   "source": [
    "import json\n",
    "\n",
    "def filter_entries_from_json(path, kw=\"validation\"):\n",
    "    \"\"\"\n",
    "    Load json file of `stats`.\n",
    "    \"\"\"\n",
    "    print(f\"Reading json file {path}\")\n",
    "    validation = []\n",
    "    with open(path, \"r\") as f:\n",
    "        for i, line in enumerate(f):\n",
    "            line = line.strip().replace(\"'\", '\"')\n",
    "            line = line.replace(\"nan\", '\"nan\"')\n",
    "            line = line.replace(\"inf\", '\"inf\"')\n",
    "            line = line.replace(\"'\", '\"')\n",
    "            try:\n",
    "                data = json.loads(line)\n",
    "            except:\n",
    "                print(path)\n",
    "                print(i)\n",
    "                print(line)\n",
    "                raise\n",
    "            if data[\"_meta\"][\"type\"] == kw:\n",
    "                validation.append(data)\n",
    "    return validation\n"
   ]
  },
  {
   "cell_type": "code",
   "execution_count": 32,
   "metadata": {},
   "outputs": [],
   "source": [
    "import json\n",
    "STATS_PATH = \"./outputs/launcher/relabel/\"\n",
    "path_mapping = {\n",
    "    \"Ditto\": STATS_PATH + \"ditto-0.1_data=relabel_n=20_K=4_Kgen=4_lr=1.000e-01_m=0.90_v=32_noniid=0.0_ms=200_ss=1/stats\",\n",
    "    \"FC\": STATS_PATH + \"fc-grad-10-quantile0.2-2-10_data=relabel_n=20_K=4_Kgen=4_lr=1.000e-01_m=0.90_v=32_noniid=0.0_ms=200_ss=1/stats\",\n",
    "    \"Global\": STATS_PATH + \"global_data=relabel_n=20_K=4_Kgen=4_lr=1.000e-01_m=0.90_v=32_noniid=0.0_ms=200_ss=1/stats\",\n",
    "    \"Local\": STATS_PATH + \"local_data=relabel_n=20_K=4_Kgen=4_lr=1.000e-01_m=0.90_v=32_noniid=0.0_ms=200_ss=1/stats\",\n",
    "    \"IFCA\": STATS_PATH + \"ifca-grad_data=relabel_n=20_K=4_Kgen=4_lr=1.000e-01_m=0.90_v=32_noniid=0.0_ms=200_ss=1/stats\",\n",
    "    \"GT\": STATS_PATH + \"groundtruth_data=relabel_n=20_K=4_Kgen=4_lr=1.000e-01_m=0.90_v=32_noniid=0.0_ms=200_ss=1/stats\"\n",
    "}"
   ]
  },
  {
   "cell_type": "code",
   "execution_count": 43,
   "metadata": {},
   "outputs": [],
   "source": [
    "# Quantile\n",
    "import json\n",
    "STATS_PATH = \"./outputs/launcher/relabel/\"\n",
    "quantile_mapping = {\n",
    "    \"0.25\": STATS_PATH + \"fc-grad-3-quantile0.2-1-10_data=relabel_n=20_K=4_Kgen=4_lr=1.000e-01_m=0.90_v=32_noniid=0.0_ms=200_ss=1/stats\",\n",
    "    \"0.2\": STATS_PATH + \"fc-grad-10-quantile0.2-2-10_data=relabel_n=20_K=4_Kgen=4_lr=1.000e-01_m=0.90_v=32_noniid=0.0_ms=200_ss=1/stats\",\n",
    "    \"0.1\": STATS_PATH + \"fc-grad-10-quantile0.1-2-10_data=relabel_n=20_K=4_Kgen=4_lr=1.000e-01_m=0.90_v=32_noniid=0.0_ms=200_ss=1/stats\",\n",
    "    \"0.05\": STATS_PATH + \"fc-grad-10-quantile0.05-2-10_data=relabel_n=20_K=4_Kgen=4_lr=1.000e-01_m=0.90_v=32_noniid=0.0_ms=200_ss=1/stats\",\n",
    "    \"0.025\": STATS_PATH + \"fc-grad-10-quantile0.025-2-10_data=relabel_n=20_K=4_Kgen=4_lr=1.000e-01_m=0.90_v=32_noniid=0.0_ms=200_ss=1/stats\",\n",
    "}\n",
    "\n",
    "# local steps\n",
    "import json\n",
    "STATS_PATH = \"./outputs/launcher/relabel/\"\n",
    "local_steps_mapping = {\n",
    "    \"5\": STATS_PATH + \"fc-grad-10-quantile0.2-2-5_data=relabel_n=20_K=4_Kgen=4_lr=1.000e-01_m=0.90_v=32_noniid=0.0_ms=200_ss=1/stats\",\n",
    "    \"10\": STATS_PATH + \"fc-grad-10-quantile0.2-2-10_data=relabel_n=20_K=4_Kgen=4_lr=1.000e-01_m=0.90_v=32_noniid=0.0_ms=200_ss=1/stats\",\n",
    "    \"20\": STATS_PATH + \"fc-grad-10-quantile0.2-2-20_data=relabel_n=20_K=4_Kgen=4_lr=1.000e-01_m=0.90_v=32_noniid=0.0_ms=200_ss=1/stats\",\n",
    "    \"40\": STATS_PATH + \"fc-grad-10-quantile0.2-2-40_data=relabel_n=20_K=4_Kgen=4_lr=1.000e-01_m=0.90_v=32_noniid=0.0_ms=200_ss=1/stats\",\n",
    "}\n",
    "\n"
   ]
  },
  {
   "cell_type": "code",
   "execution_count": 47,
   "metadata": {},
   "outputs": [],
   "source": [
    "import matplotlib.pyplot as plt\n",
    "import seaborn as sns\n",
    "\n",
    "custom_params = {\"axes.spines.right\": False, \"axes.spines.top\": False}\n",
    "sns.set_theme(style=\"ticks\", rc=custom_params)\n",
    "plt.style.use('tableau-colorblind10')\n",
    "\n",
    "# fig, axes = plt.subplots(1, 3, figsize=(8, 3), sharey=True, sharex=True)\n",
    "fig, axes = plt.subplots(1, 3, figsize=(8, 3), sharey=True)\n",
    "for ax, mapping in zip(axes, [path_mapping, quantile_mapping, local_steps_mapping]):\n",
    "    for k, v in mapping.items():\n",
    "        data = filter_entries_from_json(v, \"Global Validation\")\n",
    "        x = [d[\"E\"] for d in data]\n",
    "        y = [d[\"top1\"] for d in data]\n",
    "        if k == \"GT\":\n",
    "            x = x[:60]\n",
    "            y = y[:60]\n",
    "        ax.plot(x, y, label=k)\n",
    "\n",
    "    ax.set_xlabel(\"Epoch\")\n",
    "    ax.set_ylabel(\"Accuracy\")\n",
    "    ax.set_xlim(0, )\n",
    "\n",
    "    ax.set_ylim(0, 55)\n",
    "\n",
    "for ax, caption in zip(axes, [\"Algo.\", r\"$\\tau$ (Percentile)\", \"Local Steps\"]):\n",
    "    ax.legend(title=caption)\n",
    "\n",
    "fig.savefig(\"./outputs/cifar10.pdf\", bbox_inches=\"tight\")"
   ]
  },
  {
   "cell_type": "code",
   "execution_count": 47,
   "metadata": {},
   "outputs": [],
   "source": []
  },
  {
   "cell_type": "code",
   "execution_count": 48,
   "metadata": {},
   "outputs": [
    {
     "name": "stdout",
     "output_type": "stream",
     "text": [
      "Reading json file ./outputs/launcher/relabel/fc-grad-10-quantile0.2-2-5_data=relabel_n=20_K=4_Kgen=4_lr=1.000e-01_m=0.90_v=32_noniid=0.0_ms=200_ss=1/stats\n",
      "Reading json file ./outputs/launcher/relabel/fc-grad-10-quantile0.2-2-10_data=relabel_n=20_K=4_Kgen=4_lr=1.000e-01_m=0.90_v=32_noniid=0.0_ms=200_ss=1/stats\n",
      "Reading json file ./outputs/launcher/relabel/fc-grad-10-quantile0.2-2-20_data=relabel_n=20_K=4_Kgen=4_lr=1.000e-01_m=0.90_v=32_noniid=0.0_ms=200_ss=1/stats\n",
      "Reading json file ./outputs/launcher/relabel/fc-grad-10-quantile0.2-2-40_data=relabel_n=20_K=4_Kgen=4_lr=1.000e-01_m=0.90_v=32_noniid=0.0_ms=200_ss=1/stats\n"
     ]
    },
    {
     "data": {
      "text/plain": [
       "<matplotlib.legend.Legend at 0x7f99cd64e7c0>"
      ]
     },
     "execution_count": 48,
     "metadata": {},
     "output_type": "execute_result"
    },
    {
     "data": {
      "image/png": "[encoded data removed]",
      "text/plain": [
       "<Figure size 288x216 with 1 Axes>"
      ]
     },
     "metadata": {},
     "output_type": "display_data"
    }
   ],
   "source": [
    "import matplotlib.pyplot as plt\n",
    "import seaborn as sns\n",
    "\n",
    "custom_params = {\"axes.spines.right\": False, \"axes.spines.top\": False}\n",
    "sns.set_theme(style=\"ticks\", rc=custom_params)\n",
    "plt.style.use('tableau-colorblind10')\n",
    "\n",
    "\n",
    "fig, ax = plt.subplots(1, 1, figsize=(4, 3))\n",
    "for k, v in local_steps_mapping.items():\n",
    "    data = filter_entries_from_json(v, \"Global Validation\")\n",
    "    x = [d[\"E\"] for d in data]\n",
    "    y = [d[\"top1\"] for d in data]\n",
    "    ax.plot(x, y, label=k)\n",
    "\n",
    "ax.set_xlabel(\"Epoch\")\n",
    "ax.set_ylabel(\"Accuracy\")\n",
    "ax.set_xlim(0, 60)\n",
    "ax.legend(title=\"Quantile\")"
   ]
  },
  {
   "cell_type": "code",
   "execution_count": null,
   "metadata": {},
   "outputs": [],
   "source": []
  }
 ],
 "metadata": {
  "kernelspec": {
   "display_name": "Python 3",
   "language": "python",
   "name": "python3"
  },
  "language_info": {
   "codemirror_mode": {
    "name": "ipython",
    "version": 3
   },
   "file_extension": ".py",
   "mimetype": "text/x-python",
   "name": "python",
   "nbconvert_exporter": "python",
   "pygments_lexer": "ipython3",
   "version": "3.8.5"
  },
  "orig_nbformat": 4
 },
 "nbformat": 4,
 "nbformat_minor": 2
}
